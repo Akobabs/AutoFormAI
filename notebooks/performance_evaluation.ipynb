{
 "cells": [
  {
   "cell_type": "code",
   "execution_count": 1,
   "id": "d2ea5d44",
   "metadata": {},
   "outputs": [
    {
     "ename": "RuntimeError",
     "evalue": "Working outside of application context.\n\nThis typically means that you attempted to use functionality that needed\nthe current application. To solve this, set up an application context\nwith app.app_context(). See the documentation for more information.",
     "output_type": "error",
     "traceback": [
      "\u001b[31m---------------------------------------------------------------------------\u001b[39m",
      "\u001b[31mRuntimeError\u001b[39m                              Traceback (most recent call last)",
      "\u001b[36mCell\u001b[39m\u001b[36m \u001b[39m\u001b[32mIn[1]\u001b[39m\u001b[32m, line 11\u001b[39m\n\u001b[32m      8\u001b[39m \u001b[38;5;28;01mfrom\u001b[39;00m\u001b[38;5;250m \u001b[39m\u001b[34;01mapp\u001b[39;00m\u001b[34;01m.\u001b[39;00m\u001b[34;01mmodels\u001b[39;00m\u001b[34;01m.\u001b[39;00m\u001b[34;01msuggestions\u001b[39;00m\u001b[38;5;250m \u001b[39m\u001b[38;5;28;01mimport\u001b[39;00m SuggestionManager\n\u001b[32m     10\u001b[39m \u001b[38;5;66;03m# Load SuggestionManager\u001b[39;00m\n\u001b[32m---> \u001b[39m\u001b[32m11\u001b[39m suggestion_manager = \u001b[43mSuggestionManager\u001b[49m\u001b[43m(\u001b[49m\u001b[43m)\u001b[49m\n\u001b[32m     13\u001b[39m \u001b[38;5;66;03m# Test search speed\u001b[39;00m\n\u001b[32m     14\u001b[39m prefixes = [\u001b[33m'\u001b[39m\u001b[33mjo\u001b[39m\u001b[33m'\u001b[39m, \u001b[33m'\u001b[39m\u001b[33mem\u001b[39m\u001b[33m'\u001b[39m, \u001b[33m'\u001b[39m\u001b[33mtest@\u001b[39m\u001b[33m'\u001b[39m, \u001b[33m'\u001b[39m\u001b[33msa\u001b[39m\u001b[33m'\u001b[39m, \u001b[33m'\u001b[39m\u001b[33mmi\u001b[39m\u001b[33m'\u001b[39m]\n",
      "\u001b[36mFile \u001b[39m\u001b[32mc:\\Users\\Akoba\\Desktop\\START up\\AutoFormAI\\notebooks\\..\\app\\models\\suggestions.py:13\u001b[39m, in \u001b[36mSuggestionManager.__init__\u001b[39m\u001b[34m(self)\u001b[39m\n\u001b[32m     11\u001b[39m \u001b[38;5;28mself\u001b[39m.trie = EnhancedTrie()\n\u001b[32m     12\u001b[39m \u001b[38;5;28mself\u001b[39m.trie_path = \u001b[33m'\u001b[39m\u001b[33mapp/data/enhanced_trie.pkl\u001b[39m\u001b[33m'\u001b[39m\n\u001b[32m---> \u001b[39m\u001b[32m13\u001b[39m \u001b[38;5;28;43mself\u001b[39;49m\u001b[43m.\u001b[49m\u001b[43mload_trie\u001b[49m\u001b[43m(\u001b[49m\u001b[43m)\u001b[49m\n",
      "\u001b[36mFile \u001b[39m\u001b[32mc:\\Users\\Akoba\\Desktop\\START up\\AutoFormAI\\notebooks\\..\\app\\models\\suggestions.py:20\u001b[39m, in \u001b[36mSuggestionManager.load_trie\u001b[39m\u001b[34m(self)\u001b[39m\n\u001b[32m     18\u001b[39m     \u001b[38;5;28mself\u001b[39m.trie = EnhancedTrie.load(\u001b[38;5;28mself\u001b[39m.trie_path)\n\u001b[32m     19\u001b[39m \u001b[38;5;28;01melse\u001b[39;00m:\n\u001b[32m---> \u001b[39m\u001b[32m20\u001b[39m     \u001b[38;5;28;43mself\u001b[39;49m\u001b[43m.\u001b[49m\u001b[43mrebuild_trie\u001b[49m\u001b[43m(\u001b[49m\u001b[43m)\u001b[49m\n",
      "\u001b[36mFile \u001b[39m\u001b[32mc:\\Users\\Akoba\\Desktop\\START up\\AutoFormAI\\notebooks\\..\\app\\models\\suggestions.py:24\u001b[39m, in \u001b[36mSuggestionManager.rebuild_trie\u001b[39m\u001b[34m(self)\u001b[39m\n\u001b[32m     22\u001b[39m \u001b[38;5;28;01mdef\u001b[39;00m\u001b[38;5;250m \u001b[39m\u001b[34mrebuild_trie\u001b[39m(\u001b[38;5;28mself\u001b[39m) -> \u001b[38;5;28;01mNone\u001b[39;00m:\n\u001b[32m     23\u001b[39m \u001b[38;5;250m    \u001b[39m\u001b[33;03m\"\"\"Rebuild trie from database\"\"\"\u001b[39;00m\n\u001b[32m---> \u001b[39m\u001b[32m24\u001b[39m     suggestions = \u001b[43mSuggestion\u001b[49m\u001b[43m.\u001b[49m\u001b[43mquery\u001b[49m.filter_by(is_active=\u001b[38;5;28;01mTrue\u001b[39;00m).all()\n\u001b[32m     25\u001b[39m     \u001b[38;5;28mself\u001b[39m.trie = EnhancedTrie()\n\u001b[32m     27\u001b[39m     \u001b[38;5;28;01mfor\u001b[39;00m suggestion \u001b[38;5;129;01min\u001b[39;00m suggestions:\n",
      "\u001b[36mFile \u001b[39m\u001b[32mc:\\Users\\Akoba\\Desktop\\START up\\AutoFormAI\\venv\\Lib\\site-packages\\flask_sqlalchemy\\model.py:23\u001b[39m, in \u001b[36m_QueryProperty.__get__\u001b[39m\u001b[34m(self, obj, cls)\u001b[39m\n\u001b[32m     21\u001b[39m \u001b[38;5;28;01mdef\u001b[39;00m\u001b[38;5;250m \u001b[39m\u001b[34m__get__\u001b[39m(\u001b[38;5;28mself\u001b[39m, obj: Model | \u001b[38;5;28;01mNone\u001b[39;00m, \u001b[38;5;28mcls\u001b[39m: \u001b[38;5;28mtype\u001b[39m[Model]) -> Query:\n\u001b[32m     22\u001b[39m     \u001b[38;5;28;01mreturn\u001b[39;00m \u001b[38;5;28mcls\u001b[39m.query_class(\n\u001b[32m---> \u001b[39m\u001b[32m23\u001b[39m         \u001b[38;5;28mcls\u001b[39m, session=\u001b[38;5;28;43mcls\u001b[39;49m\u001b[43m.\u001b[49m\u001b[43m__fsa__\u001b[49m\u001b[43m.\u001b[49m\u001b[43msession\u001b[49m\u001b[43m(\u001b[49m\u001b[43m)\u001b[49m  \u001b[38;5;66;03m# type: ignore[arg-type]\u001b[39;00m\n\u001b[32m     24\u001b[39m     )\n",
      "\u001b[36mFile \u001b[39m\u001b[32mc:\\Users\\Akoba\\Desktop\\START up\\AutoFormAI\\venv\\Lib\\site-packages\\sqlalchemy\\orm\\scoping.py:220\u001b[39m, in \u001b[36mscoped_session.__call__\u001b[39m\u001b[34m(self, **kw)\u001b[39m\n\u001b[32m    218\u001b[39m         \u001b[38;5;28mself\u001b[39m.registry.set(sess)\n\u001b[32m    219\u001b[39m \u001b[38;5;28;01melse\u001b[39;00m:\n\u001b[32m--> \u001b[39m\u001b[32m220\u001b[39m     sess = \u001b[38;5;28;43mself\u001b[39;49m\u001b[43m.\u001b[49m\u001b[43mregistry\u001b[49m\u001b[43m(\u001b[49m\u001b[43m)\u001b[49m\n\u001b[32m    221\u001b[39m \u001b[38;5;28;01mif\u001b[39;00m \u001b[38;5;129;01mnot\u001b[39;00m \u001b[38;5;28mself\u001b[39m._support_async \u001b[38;5;129;01mand\u001b[39;00m sess._is_asyncio:\n\u001b[32m    222\u001b[39m     warn_deprecated(\n\u001b[32m    223\u001b[39m         \u001b[33m\"\u001b[39m\u001b[33mUsing `scoped_session` with asyncio is deprecated and \u001b[39m\u001b[33m\"\u001b[39m\n\u001b[32m    224\u001b[39m         \u001b[33m\"\u001b[39m\u001b[33mwill raise an error in a future version. \u001b[39m\u001b[33m\"\u001b[39m\n\u001b[32m    225\u001b[39m         \u001b[33m\"\u001b[39m\u001b[33mPlease use `async_scoped_session` instead.\u001b[39m\u001b[33m\"\u001b[39m,\n\u001b[32m    226\u001b[39m         \u001b[33m\"\u001b[39m\u001b[33m1.4.23\u001b[39m\u001b[33m\"\u001b[39m,\n\u001b[32m    227\u001b[39m     )\n",
      "\u001b[36mFile \u001b[39m\u001b[32mc:\\Users\\Akoba\\Desktop\\START up\\AutoFormAI\\venv\\Lib\\site-packages\\sqlalchemy\\util\\_collections.py:634\u001b[39m, in \u001b[36mScopedRegistry.__call__\u001b[39m\u001b[34m(self)\u001b[39m\n\u001b[32m    633\u001b[39m \u001b[38;5;28;01mdef\u001b[39;00m\u001b[38;5;250m \u001b[39m\u001b[34m__call__\u001b[39m(\u001b[38;5;28mself\u001b[39m) -> _T:\n\u001b[32m--> \u001b[39m\u001b[32m634\u001b[39m     key = \u001b[38;5;28;43mself\u001b[39;49m\u001b[43m.\u001b[49m\u001b[43mscopefunc\u001b[49m\u001b[43m(\u001b[49m\u001b[43m)\u001b[49m\n\u001b[32m    635\u001b[39m     \u001b[38;5;28;01mtry\u001b[39;00m:\n\u001b[32m    636\u001b[39m         \u001b[38;5;28;01mreturn\u001b[39;00m \u001b[38;5;28mself\u001b[39m.registry[key]  \u001b[38;5;66;03m# type: ignore[no-any-return]\u001b[39;00m\n",
      "\u001b[36mFile \u001b[39m\u001b[32mc:\\Users\\Akoba\\Desktop\\START up\\AutoFormAI\\venv\\Lib\\site-packages\\flask_sqlalchemy\\session.py:111\u001b[39m, in \u001b[36m_app_ctx_id\u001b[39m\u001b[34m()\u001b[39m\n\u001b[32m    109\u001b[39m \u001b[38;5;28;01mdef\u001b[39;00m\u001b[38;5;250m \u001b[39m\u001b[34m_app_ctx_id\u001b[39m() -> \u001b[38;5;28mint\u001b[39m:\n\u001b[32m    110\u001b[39m \u001b[38;5;250m    \u001b[39m\u001b[33;03m\"\"\"Get the id of the current Flask application context for the session scope.\"\"\"\u001b[39;00m\n\u001b[32m--> \u001b[39m\u001b[32m111\u001b[39m     \u001b[38;5;28;01mreturn\u001b[39;00m \u001b[38;5;28mid\u001b[39m(\u001b[43mapp_ctx\u001b[49m\u001b[43m.\u001b[49m\u001b[43m_get_current_object\u001b[49m\u001b[43m(\u001b[49m\u001b[43m)\u001b[49m)\n",
      "\u001b[36mFile \u001b[39m\u001b[32mc:\\Users\\Akoba\\Desktop\\START up\\AutoFormAI\\venv\\Lib\\site-packages\\werkzeug\\local.py:519\u001b[39m, in \u001b[36mLocalProxy.__init__.<locals>._get_current_object\u001b[39m\u001b[34m()\u001b[39m\n\u001b[32m    517\u001b[39m     obj = local.get()\n\u001b[32m    518\u001b[39m \u001b[38;5;28;01mexcept\u001b[39;00m \u001b[38;5;167;01mLookupError\u001b[39;00m:\n\u001b[32m--> \u001b[39m\u001b[32m519\u001b[39m     \u001b[38;5;28;01mraise\u001b[39;00m \u001b[38;5;167;01mRuntimeError\u001b[39;00m(unbound_message) \u001b[38;5;28;01mfrom\u001b[39;00m\u001b[38;5;250m \u001b[39m\u001b[38;5;28;01mNone\u001b[39;00m\n\u001b[32m    521\u001b[39m \u001b[38;5;28;01mreturn\u001b[39;00m get_name(obj)\n",
      "\u001b[31mRuntimeError\u001b[39m: Working outside of application context.\n\nThis typically means that you attempted to use functionality that needed\nthe current application. To solve this, set up an application context\nwith app.app_context(). See the documentation for more information."
     ]
    }
   ],
   "source": [
    "\n",
    "import pandas as pd\n",
    "import numpy as np\n",
    "import time\n",
    "import matplotlib.pyplot as plt\n",
    "import seaborn as sns\n",
    "import sys\n",
    "sys.path.append('..')\n",
    "from app.models.suggestions import SuggestionManager\n",
    "\n",
    "# Load SuggestionManager\n",
    "suggestion_manager = SuggestionManager()\n",
    "\n",
    "# Test search speed\n",
    "prefixes = ['jo', 'em', 'test@', 'sa', 'mi']\n",
    "times = []\n",
    "for prefix in prefixes:\n",
    "    start_time = time.time()\n",
    "    suggestions = suggestion_manager.get_suggestions(prefix, limit=10)\n",
    "    end_time = time.time()\n",
    "    times.append((end_time - start_time) * 1000)  # Convert to milliseconds\n",
    "    print(f\"Prefix '{prefix}': {suggestions}\")\n",
    "\n",
    "# Plot search times\n",
    "plt.figure(figsize=(10, 6))\n",
    "sns.barplot(x=times, y=prefixes, hue=prefixes)\n",
    "plt.title('Search Time per Prefix (ms)')\n",
    "plt.xlabel('Time (ms)')\n",
    "plt.ylabel('Prefix')\n",
    "plt.savefig('../docs/search_time.png')\n",
    "plt.show()\n",
    "\n",
    "# Basic relevance check\n",
    "relevance_scores = []\n",
    "for prefix in prefixes:\n",
    "    suggestions = suggestion_manager.get_suggestions(prefix, limit=5)\n",
    "    # Simple relevance: check if suggestions start with prefix\n",
    "    relevant = sum(1 for s in suggestions if s['text'].lower().startswith(prefix.lower()))\n",
    "    score = relevant / len(suggestions) if suggestions else 0\n",
    "    relevance_scores.append(score)\n",
    "    print(f\"Relevance for '{prefix}': {score*100:.2f}%\")\n",
    "\n",
    "# Plot relevance scores\n",
    "plt.figure(figsize=(10, 6))\n",
    "sns.barplot(x=relevance_scores, y=prefixes, hue=prefixes)\n",
    "plt.title('Suggestion Relevance per Prefix')\n",
    "plt.xlabel('Relevance Score')\n",
    "plt.ylabel('Prefix')\n",
    "plt.savefig('../docs/relevance_score.png')\n",
    "plt.show()\n",
    "   "
   ]
  },
  {
   "cell_type": "code",
   "execution_count": null,
   "id": "b36972ef",
   "metadata": {},
   "outputs": [],
   "source": []
  }
 ],
 "metadata": {
  "kernelspec": {
   "display_name": "venv",
   "language": "python",
   "name": "python3"
  },
  "language_info": {
   "codemirror_mode": {
    "name": "ipython",
    "version": 3
   },
   "file_extension": ".py",
   "mimetype": "text/x-python",
   "name": "python",
   "nbconvert_exporter": "python",
   "pygments_lexer": "ipython3",
   "version": "3.12.3"
  }
 },
 "nbformat": 4,
 "nbformat_minor": 5
}
