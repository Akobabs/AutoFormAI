{
 "cells": [
  {
   "cell_type": "code",
   "execution_count": 1,
   "id": "c626d41b",
   "metadata": {},
   "outputs": [
    {
     "ename": "UnpicklingError",
     "evalue": "pickle data was truncated",
     "output_type": "error",
     "traceback": [
      "\u001b[31m---------------------------------------------------------------------------\u001b[39m",
      "\u001b[31mUnpicklingError\u001b[39m                           Traceback (most recent call last)",
      "\u001b[36mCell\u001b[39m\u001b[36m \u001b[39m\u001b[32mIn[1]\u001b[39m\u001b[32m, line 9\u001b[39m\n\u001b[32m      6\u001b[39m \u001b[38;5;28;01mfrom\u001b[39;00m\u001b[38;5;250m \u001b[39m\u001b[34;01mapp\u001b[39;00m\u001b[34;01m.\u001b[39;00m\u001b[34;01mmodels\u001b[39;00m\u001b[34;01m.\u001b[39;00m\u001b[34;01msuggestions\u001b[39;00m\u001b[38;5;250m \u001b[39m\u001b[38;5;28;01mimport\u001b[39;00m SuggestionManager\n\u001b[32m      8\u001b[39m \u001b[38;5;66;03m# Initialize SuggestionManager\u001b[39;00m\n\u001b[32m----> \u001b[39m\u001b[32m9\u001b[39m suggestion_manager = \u001b[43mSuggestionManager\u001b[49m\u001b[43m(\u001b[49m\u001b[43m)\u001b[49m\n\u001b[32m     11\u001b[39m \u001b[38;5;66;03m# Load or generate data\u001b[39;00m\n\u001b[32m     12\u001b[39m \u001b[38;5;28;01mtry\u001b[39;00m:\n",
      "\u001b[36mFile \u001b[39m\u001b[32mc:\\Users\\Akoba\\Desktop\\START up\\AutoFormAI\\notebooks\\..\\app\\models\\suggestions.py:20\u001b[39m, in \u001b[36mSuggestionManager.__init__\u001b[39m\u001b[34m(self, load_trie_on_init)\u001b[39m\n\u001b[32m     18\u001b[39m \u001b[38;5;28mself\u001b[39m.load_trie_on_init = load_trie_on_init\n\u001b[32m     19\u001b[39m \u001b[38;5;28;01mif\u001b[39;00m \u001b[38;5;28mself\u001b[39m.load_trie_on_init:\n\u001b[32m---> \u001b[39m\u001b[32m20\u001b[39m     \u001b[38;5;28;43mself\u001b[39;49m\u001b[43m.\u001b[49m\u001b[43mload_trie\u001b[49m\u001b[43m(\u001b[49m\u001b[43m)\u001b[49m\n",
      "\u001b[36mFile \u001b[39m\u001b[32mc:\\Users\\Akoba\\Desktop\\START up\\AutoFormAI\\notebooks\\..\\app\\models\\suggestions.py:25\u001b[39m, in \u001b[36mSuggestionManager.load_trie\u001b[39m\u001b[34m(self)\u001b[39m\n\u001b[32m     23\u001b[39m \u001b[38;5;250m\u001b[39m\u001b[33;03m\"\"\"Load or create trie\"\"\"\u001b[39;00m\n\u001b[32m     24\u001b[39m \u001b[38;5;28;01mif\u001b[39;00m os.path.exists(\u001b[38;5;28mself\u001b[39m.trie_path):\n\u001b[32m---> \u001b[39m\u001b[32m25\u001b[39m     \u001b[38;5;28mself\u001b[39m.trie = \u001b[43mEnhancedTrie\u001b[49m\u001b[43m.\u001b[49m\u001b[43mload\u001b[49m\u001b[43m(\u001b[49m\u001b[38;5;28;43mself\u001b[39;49m\u001b[43m.\u001b[49m\u001b[43mtrie_path\u001b[49m\u001b[43m)\u001b[49m\n\u001b[32m     26\u001b[39m \u001b[38;5;28;01melse\u001b[39;00m:\n\u001b[32m     27\u001b[39m     \u001b[38;5;28mself\u001b[39m.rebuild_trie()\n",
      "\u001b[36mFile \u001b[39m\u001b[32mc:\\Users\\Akoba\\Desktop\\START up\\AutoFormAI\\notebooks\\..\\app\\models\\trie.py:102\u001b[39m, in \u001b[36mEnhancedTrie.load\u001b[39m\u001b[34m(cls, filepath)\u001b[39m\n\u001b[32m    100\u001b[39m \u001b[38;5;28;01mtry\u001b[39;00m:\n\u001b[32m    101\u001b[39m     \u001b[38;5;28;01mwith\u001b[39;00m \u001b[38;5;28mopen\u001b[39m(filepath, \u001b[33m'\u001b[39m\u001b[33mrb\u001b[39m\u001b[33m'\u001b[39m) \u001b[38;5;28;01mas\u001b[39;00m f:\n\u001b[32m--> \u001b[39m\u001b[32m102\u001b[39m         \u001b[38;5;28;01mreturn\u001b[39;00m \u001b[43mpickle\u001b[49m\u001b[43m.\u001b[49m\u001b[43mload\u001b[49m\u001b[43m(\u001b[49m\u001b[43mf\u001b[49m\u001b[43m)\u001b[49m\n\u001b[32m    103\u001b[39m \u001b[38;5;28;01mexcept\u001b[39;00m \u001b[38;5;167;01mFileNotFoundError\u001b[39;00m:\n\u001b[32m    104\u001b[39m     \u001b[38;5;28;01mreturn\u001b[39;00m \u001b[38;5;28mcls\u001b[39m()\n",
      "\u001b[31mUnpicklingError\u001b[39m: pickle data was truncated"
     ]
    }
   ],
   "source": [
    "import pandas as pd\n",
    "from faker import Faker\n",
    "import random\n",
    "import sys\n",
    "sys.path.append('..')\n",
    "from app.models.suggestions import SuggestionManager\n",
    "\n",
    "# Initialize SuggestionManager\n",
    "suggestion_manager = SuggestionManager()\n",
    "\n",
    "# Load or generate data\n",
    "try:\n",
    "    names_df = pd.read_csv('../data/raw/NationalNames.csv')\n",
    "    names = names_df['Name'].unique().tolist()[:5000]  # Limit for simplicity\n",
    "except FileNotFoundError:\n",
    "    print(\"Download 'NationalNames.csv' from https://www.kaggle.com/datasets/kaggle/us-baby-names\")\n",
    "    fake = Faker()\n",
    "    names = [fake.name() for _ in range(5000)]\n",
    "\n",
    "# Generate emails\n",
    "fake = Faker()\n",
    "emails = [fake.email() for _ in range(5000)]\n",
    "\n",
    "# Combine and save dataset\n",
    "dataset = names + emails\n",
    "random.shuffle(dataset)\n",
    "df = pd.DataFrame(dataset, columns=['text'])\n",
    "df.to_csv('../data/processed/autocomplete_dataset.csv', index=False)\n",
    "print(f\"Dataset size: {len(dataset)}\")\n",
    "df.head()\n",
    "\n",
    "# Add to SuggestionManager\n",
    "for text in dataset:\n",
    "    category = 'email' if '@' in text else 'name'\n",
    "    suggestion_manager.add_suggestion(text, category)\n",
    "\n",
    "# Save trie\n",
    "suggestion_manager.save_trie()\n",
    "print(\"Trie model trained and saved.\")\n",
    "\n",
    "# Test model\n",
    "print(\"Testing prefix 'jo':\")\n",
    "print(suggestion_manager.get_suggestions('jo', limit=5))\n",
    "print(\"\\\\nTesting prefix 'test@':\")\n",
    "print(suggestion_manager.get_suggestions('test@', limit=5))"
   ]
  },
  {
   "cell_type": "code",
   "execution_count": null,
   "id": "a0f35d83",
   "metadata": {},
   "outputs": [],
   "source": []
  }
 ],
 "metadata": {
  "kernelspec": {
   "display_name": "venv",
   "language": "python",
   "name": "python3"
  },
  "language_info": {
   "codemirror_mode": {
    "name": "ipython",
    "version": 3
   },
   "file_extension": ".py",
   "mimetype": "text/x-python",
   "name": "python",
   "nbconvert_exporter": "python",
   "pygments_lexer": "ipython3",
   "version": "3.12.3"
  }
 },
 "nbformat": 4,
 "nbformat_minor": 5
}
