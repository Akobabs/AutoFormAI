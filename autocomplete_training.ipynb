{
 "cells": [
  {
   "cell_type": "code",
   "execution_count": 1,
   "id": "af644dba",
   "metadata": {},
   "outputs": [
    {
     "name": "stdout",
     "output_type": "stream",
     "text": [
      "Dataset size: 10000\n"
     ]
    },
    {
     "data": {
      "text/html": [
       "<div>\n",
       "<style scoped>\n",
       "    .dataframe tbody tr th:only-of-type {\n",
       "        vertical-align: middle;\n",
       "    }\n",
       "\n",
       "    .dataframe tbody tr th {\n",
       "        vertical-align: top;\n",
       "    }\n",
       "\n",
       "    .dataframe thead th {\n",
       "        text-align: right;\n",
       "    }\n",
       "</style>\n",
       "<table border=\"1\" class=\"dataframe\">\n",
       "  <thead>\n",
       "    <tr style=\"text-align: right;\">\n",
       "      <th></th>\n",
       "      <th>text</th>\n",
       "    </tr>\n",
       "  </thead>\n",
       "  <tbody>\n",
       "    <tr>\n",
       "      <th>0</th>\n",
       "      <td>Ovie</td>\n",
       "    </tr>\n",
       "    <tr>\n",
       "      <th>1</th>\n",
       "      <td>Anabel</td>\n",
       "    </tr>\n",
       "    <tr>\n",
       "      <th>2</th>\n",
       "      <td>reyesmario@example.com</td>\n",
       "    </tr>\n",
       "    <tr>\n",
       "      <th>3</th>\n",
       "      <td>Suzie</td>\n",
       "    </tr>\n",
       "    <tr>\n",
       "      <th>4</th>\n",
       "      <td>suzanne80@example.org</td>\n",
       "    </tr>\n",
       "  </tbody>\n",
       "</table>\n",
       "</div>"
      ],
      "text/plain": [
       "                     text\n",
       "0                    Ovie\n",
       "1                  Anabel\n",
       "2  reyesmario@example.com\n",
       "3                   Suzie\n",
       "4   suzanne80@example.org"
      ]
     },
     "execution_count": 1,
     "metadata": {},
     "output_type": "execute_result"
    }
   ],
   "source": [
    "# Import libraries\n",
    "import pandas as pd\n",
    "from faker import Faker\n",
    "import random\n",
    "import pickle\n",
    "\n",
    "# Initialize Faker\n",
    "fake = Faker()\n",
    "\n",
    "# Load US Baby Names\n",
    "try:\n",
    "    names_df = pd.read_csv('data/NationalNames.csv')\n",
    "    names = names_df['Name'].unique().tolist()[:5000]  # Limit for simplicity\n",
    "except FileNotFoundError:\n",
    "    print(\"Download 'NationalNames.csv' from https://www.kaggle.com/datasets/kaggle/us-baby-names\")\n",
    "    names = [fake.name() for _ in range(5000)]  # Fallback\n",
    "\n",
    "# Generate emails\n",
    "emails = [fake.email() for _ in range(5000)]\n",
    "\n",
    "# Combine and save dataset\n",
    "dataset = names + emails\n",
    "random.shuffle(dataset)\n",
    "df = pd.DataFrame(dataset, columns=['text'])\n",
    "df.to_csv('data/autocomplete_dataset.csv', index=False)\n",
    "print(f\"Dataset size: {len(dataset)}\")\n",
    "df.head()\n"
   ]
  },
  {
   "cell_type": "code",
   "execution_count": 2,
   "id": "8f4aafc1",
   "metadata": {},
   "outputs": [
    {
     "name": "stdout",
     "output_type": "stream",
     "text": [
      "             length\n",
      "count  10000.000000\n",
      "mean      13.844800\n",
      "std        8.317802\n",
      "min        2.000000\n",
      "25%        6.000000\n",
      "50%       13.500000\n",
      "75%       21.000000\n",
      "max       33.000000\n"
     ]
    }
   ],
   "source": [
    "# EDA: Text length distribution\n",
    "df['length'] = df['text'].apply(len)\n",
    "print(df.describe())\n",
    "\n",
    "# Save length distribution plot\n",
    "import matplotlib.pyplot as plt\n",
    "plt.hist(df['length'], bins=30)\n",
    "plt.title('Text Length Distribution')\n",
    "plt.xlabel('Length')\n",
    "plt.ylabel('Frequency')\n",
    "plt.savefig('docs/length_distribution.png')\n",
    "plt.close()\n"
   ]
  },
  {
   "cell_type": "code",
   "execution_count": 3,
   "id": "e26f5ebc",
   "metadata": {},
   "outputs": [
    {
     "name": "stdout",
     "output_type": "stream",
     "text": [
      "['jo', 'joan', 'joann', 'joann99@example.org', 'joanne']\n"
     ]
    }
   ],
   "source": [
    "# Train trie model\n",
    "class Trie:\n",
    "    def __init__(self):\n",
    "        self.root = {}\n",
    "        self.end = '*'\n",
    "\n",
    "    def insert(self, word):\n",
    "        node = self.root\n",
    "        for char in word.lower():\n",
    "            if char not in node:\n",
    "                node[char] = {}\n",
    "            node = node[char]\n",
    "        node[self.end] = True\n",
    "\n",
    "    def search_prefix(self, prefix):\n",
    "        node = self.root\n",
    "        for char in prefix.lower():\n",
    "            if char not in node:\n",
    "                return []\n",
    "            node = node[char]\n",
    "        return self._collect_words(node, prefix.lower())\n",
    "\n",
    "    def _collect_words(self, node, prefix):\n",
    "        words = []\n",
    "        if self.end in node:\n",
    "            words.append(prefix)\n",
    "        for char, child in node.items():\n",
    "            if char != self.end:\n",
    "                words.extend(self._collect_words(child, prefix + char))\n",
    "        return words\n",
    "\n",
    "# Train and save model\n",
    "trie = Trie()\n",
    "for text in dataset:\n",
    "    trie.insert(text)\n",
    "with open('models/trie_model.pkl', 'wb') as f:\n",
    "    pickle.dump(trie, f)\n",
    "\n",
    "# Test model\n",
    "print(trie.search_prefix('jo')[:5])"
   ]
  },
  {
   "cell_type": "code",
   "execution_count": null,
   "id": "10ef3e03",
   "metadata": {},
   "outputs": [],
   "source": []
  }
 ],
 "metadata": {
  "kernelspec": {
   "display_name": "venv",
   "language": "python",
   "name": "python3"
  },
  "language_info": {
   "codemirror_mode": {
    "name": "ipython",
    "version": 3
   },
   "file_extension": ".py",
   "mimetype": "text/x-python",
   "name": "python",
   "nbconvert_exporter": "python",
   "pygments_lexer": "ipython3",
   "version": "3.12.3"
  }
 },
 "nbformat": 4,
 "nbformat_minor": 5
}
